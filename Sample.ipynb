{
 "cells": [
  {
   "cell_type": "code",
   "execution_count": null,
   "metadata": {
    "collapsed": false
   },
   "outputs": [],
   "source": [
    "import os\n",
    "import yaml\n",
    "import requests\n",
    "import json\n",
    "\n",
    "def _get_config(service_str):\n",
    "    path = os.path.join(os.path.dirname(os.path.realpath('__file__')),'config/config.txt')\n",
    "    with open(path, 'r') as config_file:\n",
    "        config = yaml.load(config_file)\n",
    "    return config[service_str]\n",
    "\n",
    "#https://qpx-express-demo.itasoftware.com/\n",
    "\n",
    "def get_flight_results(payload):\n",
    "    config = _get_config('qpx_express')\n",
    "    url = '{}?key={}'.format(config['url'],config['project_key'])\n",
    "    r = requests.post(url, \n",
    "                      data = json.dumps(payload), \n",
    "                      headers = config['headers'])\n",
    "    \n",
    "    return json.loads(r.text)\n",
    "\n",
    "def create_request(origin, destination, date):\n",
    "    passengers = {}\n",
    "    passengers['adultCount'] = 1\n",
    "    slice = {}\n",
    "    slice['origin'] = origin\n",
    "    slice['destination'] = destination\n",
    "    slice['date'] = date\n",
    "    slice['maxStops'] = 0\n",
    "    request = {}\n",
    "    request['passengers'] = passengers\n",
    "    request['slice'] = [slice]\n",
    "    request['solutions'] = 500\n",
    "    return {'request': request}"
   ]
  },
  {
   "cell_type": "code",
   "execution_count": null,
   "metadata": {
    "collapsed": false
   },
   "outputs": [],
   "source": [
    "results = get_flight_results(create_request('BOS','LAX','2016-06-01'))"
   ]
  },
  {
   "cell_type": "code",
   "execution_count": null,
   "metadata": {
    "collapsed": true
   },
   "outputs": [],
   "source": [
    "reference_data = results['trips']['data']\n",
    "trip_options = results['trips']['tripOption']"
   ]
  },
  {
   "cell_type": "code",
   "execution_count": null,
   "metadata": {
    "collapsed": false
   },
   "outputs": [],
   "source": [
    "for trip_option in trip_options:\n",
    "    code = trip_option['slice'][0]['segment'][0]['flight']['carrier']\n",
    "    carrier = [carrier['name'] for carrier in reference_data['carrier'] if carrier['code']==code][0]\n",
    "    number = trip_option['slice'][0]['segment'][0]['flight']['number']\n",
    "    price = trip_option['saleTotal']\n",
    "    arrival = trip_option['slice'][0]['segment'][0]['leg'][0]['arrivalTime']\n",
    "    departure = trip_option['slice'][0]['segment'][0]['leg'][0]['departureTime']\n",
    "    print \"{} {} {} {} {}\".format(carrier, number, price, arrival, departure)"
   ]
  }
 ],
 "metadata": {
  "kernelspec": {
   "display_name": "Python 2",
   "language": "python",
   "name": "python2"
  },
  "language_info": {
   "codemirror_mode": {
    "name": "ipython",
    "version": 2
   },
   "file_extension": ".py",
   "mimetype": "text/x-python",
   "name": "python",
   "nbconvert_exporter": "python",
   "pygments_lexer": "ipython2",
   "version": "2.7.11"
  }
 },
 "nbformat": 4,
 "nbformat_minor": 0
}
