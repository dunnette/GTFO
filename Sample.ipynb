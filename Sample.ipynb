{
 "cells": [
  {
   "cell_type": "code",
   "execution_count": null,
   "metadata": {
    "collapsed": false
   },
   "outputs": [],
   "source": [
    "import os\n",
    "import yaml\n",
    "import requests\n",
    "import json\n",
    "\n",
    "def _get_config(service_str):\n",
    "    path = os.path.join(os.path.dirname(os.path.realpath('__file__')),'config/config.txt')\n",
    "    with open(path, 'r') as config_file:\n",
    "        config = yaml.load(config_file)\n",
    "    return config[service_str]\n",
    "\n",
    "#https://qpx-express-demo.itasoftware.com/\n",
    "\n",
    "def get_flight_results(payload):\n",
    "    config = _get_config('qpx_express')\n",
    "    url = '{}?key={}'.format(config['url'],config['project_key'])\n",
    "    r = requests.post(url, \n",
    "                      data = json.dumps(payload), \n",
    "                      headers = config['headers'])\n",
    "    \n",
    "    return json.loads(r.text)"
   ]
  },
  {
   "cell_type": "code",
   "execution_count": null,
   "metadata": {
    "collapsed": false
   },
   "outputs": [],
   "source": [
    "json_request = {\n",
    "    \"request\": {\n",
    "        \"passengers\": {\n",
    "            \"adultCount\": 1\n",
    "        },\n",
    "        \"slice\": [\n",
    "            {\n",
    "                \"origin\": \"BOS\",\n",
    "                \"destination\": \"LAX\",\n",
    "                \"date\": \"2016-12-30\",\n",
    "                \"maxStops\": 0\n",
    "            }\n",
    "        ],\n",
    "        \"solutions\": 20,\n",
    "        \"refundable\": False\n",
    "    }\n",
    "}\n",
    "\n",
    "get_flight_results(json_request)"
   ]
  }
 ],
 "metadata": {
  "kernelspec": {
   "display_name": "Python 2",
   "language": "python",
   "name": "python2"
  },
  "language_info": {
   "codemirror_mode": {
    "name": "ipython",
    "version": 2
   },
   "file_extension": ".py",
   "mimetype": "text/x-python",
   "name": "python",
   "nbconvert_exporter": "python",
   "pygments_lexer": "ipython2",
   "version": "2.7.11"
  }
 },
 "nbformat": 4,
 "nbformat_minor": 0
}
